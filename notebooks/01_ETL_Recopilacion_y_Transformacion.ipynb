{
 "cells": [
  {
   "cell_type": "markdown",
   "id": "a43264a8",
   "metadata": {},
   "source": [
    "# Proyecto Análisis de datos Ecommerce"
   ]
  },
  {
   "cell_type": "code",
   "execution_count": 2,
   "id": "0753fb01",
   "metadata": {},
   "outputs": [],
   "source": [
    "import numpy as np\n",
    "import matplotlib.pyplot as plt\n",
    "import seaborn as sns\n",
    "import pandas as pd"
   ]
  },
  {
   "cell_type": "markdown",
   "id": "315a175a",
   "metadata": {},
   "source": [
    "### Extracción de las imágenes"
   ]
  },
  {
   "cell_type": "code",
   "execution_count": null,
   "id": "a39bbe3c",
   "metadata": {},
   "outputs": [],
   "source": [
    "import requests\n",
    "import os\n",
    "\n",
    "# Suponiendo que tu dataset se llama 'productos.csv' y tiene una columna 'url_imagen'\n",
    "df_productos = pd.read_excel('../data/raw/productos/info/productos.xlsx')\n",
    "\n",
    "# Itera sobre el DataFrame para descargar cada imagen\n",
    "for index, row in df_productos.iterrows():\n",
    "    url = row['Image Src']\n",
    "    nombre_archivo = f\"producto_{index}.jpg\"  # O usar un nombre más descriptivo, como el ID del producto\n",
    "    ruta_guardar = os.path.join('imagenes_productos', nombre_archivo)\n",
    "    \n",
    "    try:\n",
    "        response = requests.get(url, stream=True)\n",
    "        if response.status_code == 200:\n",
    "            with open(ruta_guardar, 'wb') as f:\n",
    "                for chunk in response.iter_content(1024):\n",
    "                    f.write(chunk)\n",
    "            print(f\"Imagen descargada: {nombre_archivo}\")\n",
    "        else:\n",
    "            print(f\"Error al descargar la imagen de {url}: Código de estado {response.status_code}\")\n",
    "    except Exception as e:\n",
    "        print(f\"Error al procesar la URL {url}: {e}\")"
   ]
  }
 ],
 "metadata": {
  "kernelspec": {
   "display_name": "venv",
   "language": "python",
   "name": "python3"
  },
  "language_info": {
   "codemirror_mode": {
    "name": "ipython",
    "version": 3
   },
   "file_extension": ".py",
   "mimetype": "text/x-python",
   "name": "python",
   "nbconvert_exporter": "python",
   "pygments_lexer": "ipython3",
   "version": "3.13.7"
  }
 },
 "nbformat": 4,
 "nbformat_minor": 5
}
